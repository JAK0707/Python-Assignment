{
  "nbformat": 4,
  "nbformat_minor": 0,
  "metadata": {
    "colab": {
      "provenance": [],
      "authorship_tag": "ABX9TyMbj6SyinR7IqGBf2kjErGN",
      "include_colab_link": true
    },
    "kernelspec": {
      "name": "python3",
      "display_name": "Python 3"
    },
    "language_info": {
      "name": "python"
    }
  },
  "cells": [
    {
      "cell_type": "markdown",
      "metadata": {
        "id": "view-in-github",
        "colab_type": "text"
      },
      "source": [
        "<a href=\"https://colab.research.google.com/github/JAK0707/Python-Assignment/blob/main/Assignment_Python.ipynb\" target=\"_parent\"><img src=\"https://colab.research.google.com/assets/colab-badge.svg\" alt=\"Open In Colab\"/></a>"
      ]
    },
    {
      "cell_type": "markdown",
      "source": [
        "L is a list defined as L= [11, 12, 13, 14].\n",
        "(i) WAP to add 50 and 60 to L.\n",
        "(ii) WAP to remove 11 and 13from L.\n",
        "(iii) WAP to sort L in ascending order.\n",
        "(iv) WAP to sort L in descending order.\n",
        "(v) WAP to search for 13 in L.\n",
        "(vi) WAP to count the number of elements present in L.\n",
        "(vii) WAP to sum all the elements in L.\n",
        "(viii) WAP to sum all ODD numbers in L.\n",
        "(ix) WAP to sum all EVEN numbers in L.\n",
        "(x) WAP to sum all PRIME numbers in L.\n",
        "(xi) WAP to clear all the elements in L.\n",
        "(xii) WAP to delete L."
      ],
      "metadata": {
        "id": "UYrTYnVLVkaA"
      }
    },
    {
      "cell_type": "code",
      "execution_count": null,
      "metadata": {
        "colab": {
          "base_uri": "https://localhost:8080/"
        },
        "id": "v3NdZb8NU4mT",
        "outputId": "5c6bbe34-6df8-4589-9e43-8e223bc24244"
      },
      "outputs": [
        {
          "output_type": "stream",
          "name": "stdout",
          "text": [
            "[11, 12, 13, 14]\n"
          ]
        }
      ],
      "source": [
        "L= [11, 12, 13, 14]\n",
        "print(L)"
      ]
    },
    {
      "cell_type": "code",
      "source": [
        "#(i)\n",
        "\n",
        "L.append(50)\n",
        "L.append(60)\n",
        "print(L)"
      ],
      "metadata": {
        "colab": {
          "base_uri": "https://localhost:8080/"
        },
        "id": "KsffOYs5af4p",
        "outputId": "3ba93e39-3f47-49d4-9c76-45c84abe99f1"
      },
      "execution_count": null,
      "outputs": [
        {
          "output_type": "stream",
          "name": "stdout",
          "text": [
            "[11, 12, 13, 14, 50, 60]\n"
          ]
        }
      ]
    },
    {
      "cell_type": "code",
      "source": [
        "#(ii)\n",
        "\n",
        "L.remove(11)\n",
        "L.remove(13)\n",
        "print(L)"
      ],
      "metadata": {
        "colab": {
          "base_uri": "https://localhost:8080/"
        },
        "id": "PbuE5TYOWegH",
        "outputId": "562038de-cecd-4ee7-c79b-cbe0efd6c20f"
      },
      "execution_count": null,
      "outputs": [
        {
          "output_type": "stream",
          "name": "stdout",
          "text": [
            "[12, 14, 50, 60]\n"
          ]
        }
      ]
    },
    {
      "cell_type": "code",
      "source": [
        "#(iii)\n",
        "\n",
        "L.sort()\n",
        "print(L)"
      ],
      "metadata": {
        "colab": {
          "base_uri": "https://localhost:8080/"
        },
        "id": "QYu5exHJaDw3",
        "outputId": "cf29e059-837b-42a3-906e-0d3048be7cc8"
      },
      "execution_count": null,
      "outputs": [
        {
          "output_type": "stream",
          "name": "stdout",
          "text": [
            "[12, 14, 50, 60]\n"
          ]
        }
      ]
    },
    {
      "cell_type": "code",
      "source": [
        "#(iv)\n",
        "\n",
        "L.sort(reverse=True)\n",
        "print(L)"
      ],
      "metadata": {
        "colab": {
          "base_uri": "https://localhost:8080/"
        },
        "id": "hryQnfZaa_Ri",
        "outputId": "fe754410-8e38-4f4e-e172-f71673091774"
      },
      "execution_count": null,
      "outputs": [
        {
          "output_type": "stream",
          "name": "stdout",
          "text": [
            "[60, 50, 14, 12]\n"
          ]
        }
      ]
    },
    {
      "cell_type": "code",
      "source": [
        "#(v)\n",
        "\n",
        "search = 13 in L\n",
        "print(search)"
      ],
      "metadata": {
        "colab": {
          "base_uri": "https://localhost:8080/"
        },
        "id": "ynUecAaTbLMD",
        "outputId": "272067af-c740-4c8f-8230-aeb64417264d"
      },
      "execution_count": null,
      "outputs": [
        {
          "output_type": "stream",
          "name": "stdout",
          "text": [
            "False\n"
          ]
        }
      ]
    },
    {
      "cell_type": "code",
      "source": [
        "#(vi)\n",
        "\n",
        "count = len(L)\n",
        "print(\"No. of elements in L = \",count)"
      ],
      "metadata": {
        "colab": {
          "base_uri": "https://localhost:8080/"
        },
        "id": "xrZQG-4ebTXF",
        "outputId": "e65744c3-24b4-4d2e-cd5c-c5a3876763f9"
      },
      "execution_count": null,
      "outputs": [
        {
          "output_type": "stream",
          "name": "stdout",
          "text": [
            "No. of elements in L =  4\n"
          ]
        }
      ]
    },
    {
      "cell_type": "code",
      "source": [
        "#(vii)\n",
        "\n",
        "sum = sum(L)\n",
        "print(\"Sum of elements of\",L,\"=\",sum)"
      ],
      "metadata": {
        "colab": {
          "base_uri": "https://localhost:8080/"
        },
        "id": "KrOxjWhRbuVq",
        "outputId": "a637a384-dc59-4564-986d-8f331438a218"
      },
      "execution_count": null,
      "outputs": [
        {
          "output_type": "stream",
          "name": "stdout",
          "text": [
            "Sum of elements of [60, 50, 14, 12] = 136\n"
          ]
        }
      ]
    },
    {
      "cell_type": "code",
      "source": [
        "#(viii)\n",
        "\n",
        "odd_sum = 0\n",
        "for i in L:\n",
        "  if(i%2!=0):\n",
        "    odd_sum+=i\n",
        "print(\"Sum of all odd numbers in\",L,\"=\",odd_sum)"
      ],
      "metadata": {
        "colab": {
          "base_uri": "https://localhost:8080/"
        },
        "id": "z1OH1DWacK56",
        "outputId": "3f049577-828d-41bf-ef2c-8ee7ce2e58b8"
      },
      "execution_count": null,
      "outputs": [
        {
          "output_type": "stream",
          "name": "stdout",
          "text": [
            "Sum of all odd numbers in [60, 50, 14, 12] = 0\n"
          ]
        }
      ]
    },
    {
      "cell_type": "code",
      "source": [
        "#(ix)\n",
        "\n",
        "even_sum = 0\n",
        "for i in L:\n",
        "  if(i%2==0):\n",
        "    even_sum+=i\n",
        "print(\"Sum of all odd numbers in\",L,\"=\",even_sum)"
      ],
      "metadata": {
        "colab": {
          "base_uri": "https://localhost:8080/"
        },
        "id": "ubsugM2Rcw7K",
        "outputId": "eab85ce5-07f7-4771-bd53-c6d9eb2646b2"
      },
      "execution_count": null,
      "outputs": [
        {
          "output_type": "stream",
          "name": "stdout",
          "text": [
            "Sum of all odd numbers in [60, 50, 14, 12] = 136\n"
          ]
        }
      ]
    },
    {
      "cell_type": "code",
      "source": [
        "#(x)\n",
        "\n",
        "def is_prime(num):\n",
        "    if num < 2:\n",
        "        return False\n",
        "    if num == 2:\n",
        "        return True\n",
        "    if num % 2 == 0:\n",
        "        return False\n",
        "    for i in range(3, int(num**0.5) + 1, 2):\n",
        "        if num % i == 0:\n",
        "            return False\n",
        "    return True\n",
        "\n",
        "# List defined as L\n",
        "L = [11, 12, 13, 14]\n",
        "\n",
        "sum_prime = 0\n",
        "for num in L:\n",
        "    if is_prime(num):\n",
        "        sum_prime += num\n",
        "\n",
        "print(\"Sum of all prime numbers in\", L, \"=\", sum_prime)\n",
        "#wrong"
      ],
      "metadata": {
        "colab": {
          "base_uri": "https://localhost:8080/"
        },
        "id": "EQLoV2IkdDbx",
        "outputId": "c35c789b-4a7a-4234-c633-4cb29279404c"
      },
      "execution_count": null,
      "outputs": [
        {
          "output_type": "stream",
          "name": "stdout",
          "text": [
            "Sum of all prime numbers in [11, 12, 13, 14] = 24\n"
          ]
        }
      ]
    },
    {
      "cell_type": "code",
      "source": [
        "#(xi)\n",
        "\n",
        "L.clear()\n",
        "print(L)"
      ],
      "metadata": {
        "colab": {
          "base_uri": "https://localhost:8080/"
        },
        "id": "j0HVSrzarWb7",
        "outputId": "4b7e4d31-1ce5-4755-c791-ff0428714420"
      },
      "execution_count": null,
      "outputs": [
        {
          "output_type": "stream",
          "name": "stdout",
          "text": [
            "[]\n"
          ]
        }
      ]
    },
    {
      "cell_type": "code",
      "source": [
        "#(xii)\n",
        "\n",
        "del L"
      ],
      "metadata": {
        "id": "prL1OmuSrecf"
      },
      "execution_count": null,
      "outputs": []
    },
    {
      "cell_type": "markdown",
      "source": [
        "Q2. D is a dictionary defined as D= {1:5.6, 2:7.8, 3:6.6, 4:8.7, 5:7.7}.\n",
        "(i) WAP to add new entry in D; key=8 and value is 8.8\n",
        "(ii) WAP to remove key=2.\n",
        "(iii) WAP to check weather 6 key is present in D.\n",
        "(iv) WAP to count the number of elements present in D.\n",
        "(v) WAP to add all the values present D.\n",
        "(vi) WAP to update the value of 3 to 7.1.\n",
        "(vii) WAP to clear the dictionary."
      ],
      "metadata": {
        "id": "FwUwDGxksLOT"
      }
    },
    {
      "cell_type": "code",
      "source": [
        "D = {1:5.6, 2:7.8, 3:6.6, 4:8.7, 5:7.7}\n",
        "print(D)"
      ],
      "metadata": {
        "colab": {
          "base_uri": "https://localhost:8080/"
        },
        "id": "gbTGT6vosP7S",
        "outputId": "1db7bb6b-a815-44ed-a576-2467c8edfa22"
      },
      "execution_count": null,
      "outputs": [
        {
          "output_type": "stream",
          "name": "stdout",
          "text": [
            "{1: 5.6, 2: 7.8, 3: 6.6, 4: 8.7, 5: 7.7}\n"
          ]
        }
      ]
    },
    {
      "cell_type": "code",
      "source": [
        "#(i)\n",
        "\n",
        "D[8] = 8.8\n",
        "print(D)"
      ],
      "metadata": {
        "colab": {
          "base_uri": "https://localhost:8080/"
        },
        "id": "1DdvXzBesna-",
        "outputId": "c0715e13-879e-4ba6-ceda-1bf242c35a6d"
      },
      "execution_count": null,
      "outputs": [
        {
          "output_type": "stream",
          "name": "stdout",
          "text": [
            "{1: 5.6, 2: 7.8, 3: 6.6, 4: 8.7, 5: 7.7, 8: 8.8}\n"
          ]
        }
      ]
    },
    {
      "cell_type": "code",
      "source": [
        "#(2)\n",
        "\n",
        "if 2 in D:\n",
        "  del D[2]\n",
        "\n",
        "print(D)"
      ],
      "metadata": {
        "colab": {
          "base_uri": "https://localhost:8080/"
        },
        "id": "xQOIsD2Fsskd",
        "outputId": "7e13bd5c-f11a-4a05-df9c-3e2ed7b492c3"
      },
      "execution_count": null,
      "outputs": [
        {
          "output_type": "stream",
          "name": "stdout",
          "text": [
            "{1: 5.6, 3: 6.6, 4: 8.7, 5: 7.7, 8: 8.8}\n"
          ]
        }
      ]
    },
    {
      "cell_type": "code",
      "source": [
        "#(iii)\n",
        "\n",
        "key_6_present = 6 in D\n",
        "print(key_6_present)"
      ],
      "metadata": {
        "colab": {
          "base_uri": "https://localhost:8080/"
        },
        "id": "KDKcKlH_s4NV",
        "outputId": "8e98b83f-f2d6-435d-e337-9c319e6f827c"
      },
      "execution_count": null,
      "outputs": [
        {
          "output_type": "stream",
          "name": "stdout",
          "text": [
            "False\n"
          ]
        }
      ]
    },
    {
      "cell_type": "code",
      "source": [
        "#(iv)\n",
        "\n",
        "count = len(D)\n",
        "print(\"No. of elements in\",D,\"=\",count)"
      ],
      "metadata": {
        "colab": {
          "base_uri": "https://localhost:8080/"
        },
        "id": "wghP99QLtC48",
        "outputId": "c0e1480e-db04-4046-8021-c6b2d7e74239"
      },
      "execution_count": null,
      "outputs": [
        {
          "output_type": "stream",
          "name": "stdout",
          "text": [
            "No. of elements in {1: 5.6, 3: 6.6, 4: 8.7, 5: 7.7, 8: 8.8} = 5\n"
          ]
        }
      ]
    },
    {
      "cell_type": "code",
      "source": [
        "#(v)\n",
        "\n",
        "total_sum = 0\n",
        "for value in D.values():\n",
        "    total_sum += value\n",
        "\n",
        "# Print the result\n",
        "print(\"Sum of all values in\",D,\"=\",total_sum)"
      ],
      "metadata": {
        "colab": {
          "base_uri": "https://localhost:8080/"
        },
        "id": "KnorlTeltWQb",
        "outputId": "e6808873-0770-4c01-b5ad-36d1d1b49de9"
      },
      "execution_count": null,
      "outputs": [
        {
          "output_type": "stream",
          "name": "stdout",
          "text": [
            "Sum of all values in {1: 5.6, 3: 6.6, 4: 8.7, 5: 7.7, 8: 8.8} = 37.4\n"
          ]
        }
      ]
    },
    {
      "cell_type": "code",
      "source": [
        "#(vi)\n",
        "\n",
        "if 3 in D:\n",
        "  D[3] = 7.1\n",
        "\n",
        "print(D)"
      ],
      "metadata": {
        "colab": {
          "base_uri": "https://localhost:8080/"
        },
        "id": "z0HB01vIuSgi",
        "outputId": "7b0c6d18-df68-40f3-dead-2404d483e5bf"
      },
      "execution_count": null,
      "outputs": [
        {
          "output_type": "stream",
          "name": "stdout",
          "text": [
            "{1: 5.6, 3: 7.1, 4: 8.7, 5: 7.7, 8: 8.8}\n"
          ]
        }
      ]
    },
    {
      "cell_type": "code",
      "source": [
        "#(vii)\n",
        "\n",
        "D.clear()\n",
        "print(D)"
      ],
      "metadata": {
        "colab": {
          "base_uri": "https://localhost:8080/"
        },
        "id": "Cd3rEN4Quh9f",
        "outputId": "43afd6eb-7c24-47fa-eaa6-35f9eb9c2bac"
      },
      "execution_count": null,
      "outputs": [
        {
          "output_type": "stream",
          "name": "stdout",
          "text": [
            "{}\n"
          ]
        }
      ]
    },
    {
      "cell_type": "markdown",
      "source": [
        "S1 is a set defined as S1= {10, 20, 30, 40, 50, 60}.\n",
        "S2 is a set defined as S2= {40, 50, 60, 70, 80, 90}.\n",
        "(i) WAP to add 55 and 66 in Set S1.\n",
        "(ii) WAP to remove 10 and 30 from Set S1.\n",
        "(iii) WAP to check whether 40 is present in S1.\n",
        "(iv) WAP to find the union between S1 and S2.\n",
        "(v) WAP to find the intersection between S1 and S2.\n",
        "(vi) WAP to find the S1 - S2."
      ],
      "metadata": {
        "id": "KUBTpF2PurDk"
      }
    },
    {
      "cell_type": "code",
      "source": [
        "S1 = {10, 20, 30, 40, 50, 60}\n",
        "S2 = {40, 50, 60, 70, 80, 90}\n",
        "print(\"S1 = \",S1)\n",
        "print(\"S2 = \",S2)"
      ],
      "metadata": {
        "colab": {
          "base_uri": "https://localhost:8080/"
        },
        "id": "2GlwPhukuyfJ",
        "outputId": "545b57c6-db15-4f62-8762-b45c4d793393"
      },
      "execution_count": null,
      "outputs": [
        {
          "output_type": "stream",
          "name": "stdout",
          "text": [
            "S1 =  {50, 20, 40, 10, 60, 30}\n",
            "S2 =  {80, 50, 70, 40, 90, 60}\n"
          ]
        }
      ]
    },
    {
      "cell_type": "code",
      "source": [
        "#(i)\n",
        "\n",
        "S1.add(55)\n",
        "S1.add(66)\n",
        "print(S1)"
      ],
      "metadata": {
        "colab": {
          "base_uri": "https://localhost:8080/"
        },
        "id": "Lru8Z66ru5HL",
        "outputId": "5619856b-cc04-4b54-ffaa-07fcda848fb3"
      },
      "execution_count": null,
      "outputs": [
        {
          "output_type": "stream",
          "name": "stdout",
          "text": [
            "{50, 66, 20, 55, 40, 10, 60, 30}\n"
          ]
        }
      ]
    },
    {
      "cell_type": "code",
      "source": [
        "#(ii)\n",
        "\n",
        "S1.remove(10)\n",
        "S1.remove(30)\n",
        "print(S1)"
      ],
      "metadata": {
        "colab": {
          "base_uri": "https://localhost:8080/"
        },
        "id": "Len9Gyt4u9Ej",
        "outputId": "04229efa-9cc1-4645-8f3b-f4995b3079a4"
      },
      "execution_count": null,
      "outputs": [
        {
          "output_type": "stream",
          "name": "stdout",
          "text": [
            "{50, 66, 20, 55, 40, 60}\n"
          ]
        }
      ]
    },
    {
      "cell_type": "code",
      "source": [
        "#(iii)\n",
        "if 40 in S1:\n",
        "  print(\"40 is present in S1\")\n",
        "else:\n",
        "  print(\"40 is not present in S1\")"
      ],
      "metadata": {
        "colab": {
          "base_uri": "https://localhost:8080/"
        },
        "id": "ff23TI2yvXTy",
        "outputId": "7667f018-dd33-4d52-ca10-829affbf5f76"
      },
      "execution_count": null,
      "outputs": [
        {
          "output_type": "stream",
          "name": "stdout",
          "text": [
            "40 is present in S1\n"
          ]
        }
      ]
    },
    {
      "cell_type": "code",
      "source": [
        "#(iv)\n",
        "\n",
        "S3 = S1.union(S2)\n",
        "print(S3)"
      ],
      "metadata": {
        "colab": {
          "base_uri": "https://localhost:8080/"
        },
        "id": "UR-O5B_Jvd9d",
        "outputId": "6b95a880-1666-418c-8ad6-ff307f943a66"
      },
      "execution_count": null,
      "outputs": [
        {
          "output_type": "stream",
          "name": "stdout",
          "text": [
            "{70, 40, 10, 80, 50, 20, 90, 60, 30}\n"
          ]
        }
      ]
    },
    {
      "cell_type": "code",
      "source": [
        "#(v)\n",
        "\n",
        "S3 = S1.intersection(S2)\n",
        "print(S3)"
      ],
      "metadata": {
        "colab": {
          "base_uri": "https://localhost:8080/"
        },
        "id": "eW3I1ph8vvmV",
        "outputId": "9996fd0f-62dd-4aed-d726-ce27d8462ff3"
      },
      "execution_count": null,
      "outputs": [
        {
          "output_type": "stream",
          "name": "stdout",
          "text": [
            "{40, 50, 60}\n"
          ]
        }
      ]
    },
    {
      "cell_type": "code",
      "source": [
        "#(vi)\n",
        "\n",
        "S3 = S1.difference(S2)\n",
        "print(S3)"
      ],
      "metadata": {
        "colab": {
          "base_uri": "https://localhost:8080/"
        },
        "id": "rsEGTu1kvxuj",
        "outputId": "8b3246a3-a206-4042-d886-cd06cc369550"
      },
      "execution_count": null,
      "outputs": [
        {
          "output_type": "stream",
          "name": "stdout",
          "text": [
            "{10, 20, 30}\n"
          ]
        }
      ]
    },
    {
      "cell_type": "markdown",
      "source": [
        "Write the following program.\n",
        "(i) WAP to print 100 random strings whose length between 6 and 8.\n",
        "(ii) WAP to print all prime numbers between 600 and 800.\n",
        "(iii) WAP to print all numbers between 100 and 1000 that are divisible by 7 and 9"
      ],
      "metadata": {
        "id": "rtw-4X_lwMQE"
      }
    },
    {
      "cell_type": "code",
      "source": [
        "#(i)\n",
        "\n",
        "import random\n",
        "import string\n",
        "\n",
        "# Generate 100 random strings\n",
        "for i in range(100):\n",
        "  length = random.randint(6, 8)\n",
        "  chars = ''.join(random.choice(string.ascii_letters) for j in range(length))\n",
        "  print(chars)"
      ],
      "metadata": {
        "colab": {
          "base_uri": "https://localhost:8080/"
        },
        "id": "YSU2qgXAwPsS",
        "outputId": "7f3f585a-b568-48d8-e0ca-31a35e19dbd3"
      },
      "execution_count": null,
      "outputs": [
        {
          "output_type": "stream",
          "name": "stdout",
          "text": [
            "lgEPTNVd\n",
            "YWBMhHO\n",
            "FdDNgvQ\n",
            "nqHqbVYy\n",
            "pPzRQF\n",
            "LcBmUg\n",
            "kXNXKVua\n",
            "XjOPHzZe\n",
            "LXlOeY\n",
            "zQssqfQ\n",
            "cwRqIV\n",
            "rxnSfHq\n",
            "UnUTOz\n",
            "ggbmduek\n",
            "OgdoLI\n",
            "zdGzdvtJ\n",
            "OESYYV\n",
            "kSXBEoU\n",
            "gUzHXRq\n",
            "QwJWFITz\n",
            "KQIzVN\n",
            "yIVxfkA\n",
            "HjBaMxW\n",
            "UevALdc\n",
            "YdfyBcH\n",
            "tHCxiIX\n",
            "WTrWnn\n",
            "CJJBuqxF\n",
            "abvUmpy\n",
            "ifHTwUgd\n",
            "qlePZMlF\n",
            "TAdwXVtZ\n",
            "NQmORLK\n",
            "PakbxaO\n",
            "eyXsZG\n",
            "rMDJJQg\n",
            "ggsEuR\n",
            "wfvbhL\n",
            "cmELXGtN\n",
            "vXYAlvI\n",
            "ONVTYlR\n",
            "JwfhejA\n",
            "igMncyI\n",
            "TcUiXac\n",
            "vSZWfHU\n",
            "kSwCAc\n",
            "EwbZnGql\n",
            "pnUoPSJK\n",
            "IBbBVIEg\n",
            "YVaCuq\n",
            "ehHuZl\n",
            "TzudtD\n",
            "hgZnDhpc\n",
            "KxIhNK\n",
            "AsIrSGQ\n",
            "dgSNmXHK\n",
            "DbupjG\n",
            "sgfBpW\n",
            "heWxOW\n",
            "MDyOVjS\n",
            "WZSZwmY\n",
            "jbprRzkB\n",
            "RCGQrk\n",
            "QKBCDMPv\n",
            "ySBjks\n",
            "yhiXGXP\n",
            "LLQRHZ\n",
            "LIlBROo\n",
            "UfrpQFsZ\n",
            "ciofZeBL\n",
            "lViJcG\n",
            "ARtZVwUG\n",
            "RoHdpTx\n",
            "OswyucK\n",
            "XBVCNFQw\n",
            "QHrTfuo\n",
            "BoBzkn\n",
            "NjrxFi\n",
            "gGTEXYi\n",
            "etdUZvq\n",
            "BghjuIs\n",
            "bgorFqjR\n",
            "FoLcqF\n",
            "LWOnbJig\n",
            "PyiEilK\n",
            "FiVXeTZ\n",
            "ULMeokeD\n",
            "ulQKABtL\n",
            "KHzGXr\n",
            "gSZwLhMa\n",
            "SXUOOcD\n",
            "UGvnjsoR\n",
            "WPdeHKqv\n",
            "MTEfhKfr\n",
            "LZjtGMqB\n",
            "trSjWo\n",
            "VNQorfJH\n",
            "fnBEGqNI\n",
            "QaTkVKGq\n",
            "QdBAquh\n"
          ]
        }
      ]
    },
    {
      "cell_type": "code",
      "source": [
        "#(ii)\n",
        "\n",
        "def sieve_of_eratosthenes(start, end):\n",
        "    primes = [True for i in range(end + 1)]\n",
        "    p = 2\n",
        "    while (p * p <= end):\n",
        "        if (primes[p] == True):\n",
        "            for i in range(p * p, end + 1, p):\n",
        "                primes[i] = False\n",
        "        p += 1\n",
        "\n",
        "    prime_numbers = []\n",
        "    for p in range(start, end + 1):\n",
        "        if primes[p]:\n",
        "            prime_numbers.append(p)\n",
        "\n",
        "    return prime_numbers\n",
        "\n",
        "print(sieve_of_eratosthenes(600, 800))"
      ],
      "metadata": {
        "colab": {
          "base_uri": "https://localhost:8080/"
        },
        "id": "zdrYeoG3wbeZ",
        "outputId": "78d6619a-432d-4774-f20d-0cae2f3536d7"
      },
      "execution_count": null,
      "outputs": [
        {
          "output_type": "stream",
          "name": "stdout",
          "text": [
            "[601, 607, 613, 617, 619, 631, 641, 643, 647, 653, 659, 661, 673, 677, 683, 691, 701, 709, 719, 727, 733, 739, 743, 751, 757, 761, 769, 773, 787, 797]\n"
          ]
        }
      ]
    },
    {
      "cell_type": "code",
      "source": [
        "#(iii)\n",
        "\n",
        "for i in range(100, 1000):\n",
        "    if i % 7 == 0 and i % 9 == 0:\n",
        "        print(i)"
      ],
      "metadata": {
        "colab": {
          "base_uri": "https://localhost:8080/"
        },
        "id": "T1Z8_DaWwfRv",
        "outputId": "a9428e70-053b-45a2-f64e-6e3d5e7d0f8c"
      },
      "execution_count": null,
      "outputs": [
        {
          "output_type": "stream",
          "name": "stdout",
          "text": [
            "126\n",
            "189\n",
            "252\n",
            "315\n",
            "378\n",
            "441\n",
            "504\n",
            "567\n",
            "630\n",
            "693\n",
            "756\n",
            "819\n",
            "882\n",
            "945\n"
          ]
        }
      ]
    },
    {
      "cell_type": "markdown",
      "source": [
        "WAP to create two lists of 10 random numbers between 10 and 30; Find\n",
        "(i) Common numbers in the two lists\n",
        "(ii) Unique numbers in both the list\n",
        "(iii) Minimum in both the list\n",
        "(iv) Maximum in both the list\n",
        "(v) Sum of both the lists"
      ],
      "metadata": {
        "id": "D6Bckd53wkT8"
      }
    },
    {
      "cell_type": "code",
      "source": [
        "import random\n",
        "\n",
        "# Function to generate a list of random numbers between 10 and 30\n",
        "def generate_random_list(length):\n",
        "    return [random.randint(10, 30) for _ in range(length)]\n",
        "\n",
        "# Function to find common numbers in two lists\n",
        "def find_common_numbers(list1, list2):\n",
        "    return list(set(list1) & set(list2))\n",
        "\n",
        "# Function to find unique numbers in a list\n",
        "def find_unique_numbers(list1, list2):\n",
        "    return list(set(list1) ^ set(list2))\n",
        "\n",
        "# Function to find the minimum in a list\n",
        "def find_minimum(list1):\n",
        "    return min(list1)\n",
        "\n",
        "# Function to find the maximum in a list\n",
        "def find_maximum(list1):\n",
        "    return max(list1)\n",
        "\n",
        "# Function to find the sum of a list\n",
        "def find_sum(list1):\n",
        "    return sum(list1)\n",
        "\n",
        "# Generate two lists of random numbers\n",
        "list1 = generate_random_list(10)\n",
        "list2 = generate_random_list(10)\n",
        "\n",
        "# Find common numbers in the two lists\n",
        "common_numbers = find_common_numbers(list1, list2)\n",
        "\n",
        "# Find unique numbers in both lists\n",
        "unique_numbers = find_unique_numbers(list1, list2)\n",
        "\n",
        "# Find minimum and maximum in both lists\n",
        "min_list1 = find_minimum(list1)\n",
        "max_list1 = find_maximum(list1)\n",
        "min_list2 = find_minimum(list2)\n",
        "max_list2 = find_maximum(list2)\n",
        "\n",
        "# Find the sum of both lists\n",
        "sum_list1 = find_sum(list1)\n",
        "sum_list2 = find_sum(list2)\n",
        "\n",
        "# Output the results\n",
        "print(\"List 1:\", list1)\n",
        "print(\"List 2:\", list2)\n",
        "print(\"Common numbers:\", common_numbers)\n",
        "print(\"Unique numbers:\", unique_numbers)\n",
        "print(\"Minimum in List 1:\", min_list1)\n",
        "print(\"Minimum in List 2:\", min_list2)\n",
        "print(\"Maximum in List 1:\", max_list1)\n",
        "print(\"Maximum in List 2:\", max_list2)\n",
        "print(\"Sum of List 1:\", sum_list1)\n",
        "print(\"Sum of List 2:\", sum_list2)\n"
      ],
      "metadata": {
        "colab": {
          "base_uri": "https://localhost:8080/"
        },
        "id": "zXz74aEJwoBS",
        "outputId": "e070ee2b-a302-43a3-c9df-981197e202c6"
      },
      "execution_count": 1,
      "outputs": [
        {
          "output_type": "stream",
          "name": "stdout",
          "text": [
            "List 1: [23, 24, 11, 25, 21, 25, 18, 11, 27, 18]\n",
            "List 2: [23, 22, 21, 14, 14, 12, 25, 11, 22, 25]\n",
            "Common numbers: [25, 11, 21, 23]\n",
            "Unique numbers: [12, 14, 18, 22, 24, 27]\n",
            "Minimum in List 1: 11\n",
            "Minimum in List 2: 11\n",
            "Maximum in List 1: 27\n",
            "Maximum in List 2: 25\n",
            "Sum of List 1: 203\n",
            "Sum of List 2: 189\n"
          ]
        }
      ]
    },
    {
      "cell_type": "code",
      "source": [],
      "metadata": {
        "id": "3YQxJJuexaMS"
      },
      "execution_count": null,
      "outputs": []
    }
  ]
}